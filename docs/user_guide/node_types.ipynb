{
 "cells": [
  {
   "attachments": {},
   "cell_type": "markdown",
   "metadata": {},
   "source": [
    "# Node types\n",
    "Beside chaining functions sequentially *(which was the original purpose)*, funchain also provides \n",
    "ways of branching and iterating a collection of results.\n",
    "\n",
    "Here we will talk about different ways of designing chains using simple functions to keep focus on syntax and workflow."
   ]
  },
  {
   "attachments": {},
   "cell_type": "markdown",
   "metadata": {},
   "source": [
    "## Basic node\n",
    "An obvious but worth to be mentioned type of nodes are functions, functions are building blocks for chains, \n",
    "any functions or callable objects is wrapped by funchain into a special callable that adds chain functionality and error handling\n",
    "mechanism, the first chain function must be explicitly wrapped by ``funchain.node()``, the next piped functions\n",
    "are converted into nodes automatically by funchain.\n",
    "\n",
    "The ``funchain.node()`` takes a function as argument to make a node, but also takes a group of functions as we'll later see."
   ]
  },
  {
   "cell_type": "code",
   "execution_count": 2,
   "metadata": {},
   "outputs": [
    {
     "ename": "ModuleNotFoundError",
     "evalue": "No module named 'funchain'",
     "output_type": "error",
     "traceback": [
      "\u001b[1;31m---------------------------------------------------------------------------\u001b[0m",
      "\u001b[1;31mModuleNotFoundError\u001b[0m                       Traceback (most recent call last)",
      "Cell \u001b[1;32mIn[2], line 1\u001b[0m\n\u001b[1;32m----> 1\u001b[0m \u001b[39mfrom\u001b[39;00m \u001b[39mfastchain\u001b[39;00m \u001b[39mimport\u001b[39;00m node\n\u001b[0;32m      3\u001b[0m \u001b[39mdef\u001b[39;00m \u001b[39mtriple\u001b[39m(num: \u001b[39mint\u001b[39m) \u001b[39m-\u001b[39m\u001b[39m>\u001b[39m \u001b[39mint\u001b[39m:\n\u001b[0;32m      4\u001b[0m     \u001b[39mreturn\u001b[39;00m num\u001b[39m*\u001b[39m\u001b[39m3\u001b[39m\n",
      "\u001b[1;31mModuleNotFoundError\u001b[0m: No module named 'funchain'"
     ]
    }
   ],
   "source": [
    "from funchain import node\n",
    "\n",
    "def triple(num: int) -> int:\n",
    "    return num*3\n",
    "\n",
    "basic_node = node(triple)\n",
    "basic_node(5)  # same as triple(arg)"
   ]
  },
  {
   "cell_type": "markdown",
   "metadata": {},
   "source": []
  }
 ],
 "metadata": {
  "kernelspec": {
   "display_name": "venv",
   "language": "python",
   "name": "python3"
  },
  "language_info": {
   "codemirror_mode": {
    "name": "ipython",
    "version": 3
   },
   "file_extension": ".py",
   "mimetype": "text/x-python",
   "name": "python",
   "nbconvert_exporter": "python",
   "pygments_lexer": "ipython3",
   "version": "3.11.0"
  },
  "orig_nbformat": 4
 },
 "nbformat": 4,
 "nbformat_minor": 2
}
